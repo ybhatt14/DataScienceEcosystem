{
  "nbformat": 4,
  "nbformat_minor": 0,
  "metadata": {
    "colab": {
      "provenance": []
    },
    "kernelspec": {
      "name": "python3",
      "display_name": "Python 3"
    },
    "language_info": {
      "name": "python"
    }
  },
  "cells": [
    {
      "cell_type": "markdown",
      "source": [
        "# Data Science Tools and Ecosystem"
      ],
      "metadata": {
        "id": "ILCNsi6-CVdu"
      }
    },
    {
      "cell_type": "markdown",
      "source": [
        "In this notebook, Data Science Tools and Ecosystem are summarized.\n"
      ],
      "metadata": {
        "id": "tTa72qfSDJmP"
      }
    },
    {
      "cell_type": "markdown",
      "source": [
        "## Popular Data Science Languages\n",
        "\n",
        "Some of the popular languages used in Data Science are:\n",
        "\n",
        "1. Python\n",
        "2. SQL\n",
        "3. R\n",
        "\n"
      ],
      "metadata": {
        "id": "2DZ2DZ_IDg1w"
      }
    },
    {
      "cell_type": "markdown",
      "source": [
        "## Commonly Used Data Science Libraries\n",
        "\n",
        "Some of the commonly used libraries in Data Science are:\n",
        "\n",
        "1. Pandas\n",
        "2. Numpy\n",
        "3. Matplotlib\n",
        "\n"
      ],
      "metadata": {
        "id": "VWQ5nOWcK11h"
      }
    },
    {
      "cell_type": "markdown",
      "source": [
        "## Data Science Tools\n",
        "\n",
        "| Data Science Tools |\n",
        "|--------------------|\n",
        "| Jupyter Notebooks  |\n",
        "| Visual Studio COde |\n",
        "| Rstudio |\n"
      ],
      "metadata": {
        "id": "TCCzFxXoNvqy"
      }
    },
    {
      "cell_type": "markdown",
      "source": [
        "### Evaluating Arithmetic Expressions in Python\n",
        "\n",
        "Below are a few examples of evaluating arithmetic expressions in Python:\n"
      ],
      "metadata": {
        "id": "VBwWC4F8P9-U"
      }
    },
    {
      "cell_type": "code",
      "source": [
        "# Arithmetic expression to multiply then add integers.\n",
        "ans = (3 * 4) + 5\n",
        "ans\n"
      ],
      "metadata": {
        "colab": {
          "base_uri": "https://localhost:8080/"
        },
        "id": "mDjA65_EQNub",
        "outputId": "a680c764-d47a-45dd-c3ba-d0713f8d0f65"
      },
      "execution_count": 1,
      "outputs": [
        {
          "output_type": "execute_result",
          "data": {
            "text/plain": [
              "17"
            ]
          },
          "metadata": {},
          "execution_count": 1
        }
      ]
    },
    {
      "cell_type": "code",
      "source": [
        "# This will convert 200 minutes to hours by dividing by 60.\n",
        "minutes = 200\n",
        "hours = minutes / 60\n",
        "hours\n"
      ],
      "metadata": {
        "colab": {
          "base_uri": "https://localhost:8080/"
        },
        "id": "MYulrT1PQgd0",
        "outputId": "bdcccd3f-7eee-4154-82fb-07795e6097e4"
      },
      "execution_count": null,
      "outputs": [
        {
          "output_type": "execute_result",
          "data": {
            "text/plain": [
              "3.3333333333333335"
            ]
          },
          "metadata": {},
          "execution_count": 2
        }
      ]
    },
    {
      "cell_type": "markdown",
      "source": [
        "## Objectives:\n",
        "\n",
        "**Objectives covered in this notebook:**\n",
        "\n",
        "- Listed popular languages for Data Science.\n",
        "- To know libraries used in Data Science.\n",
        "- Demonstrate converting minutes to hours using Python.\n",
        "- Evaluated arithmetic expression in python.\n"
      ],
      "metadata": {
        "id": "Rc5hKZpVQtZE"
      }
    },
    {
      "cell_type": "markdown",
      "source": [
        "## Author\n",
        "\n",
        "Yugmi Bhatt\n"
      ],
      "metadata": {
        "id": "QjyHRnsFRAZ8"
      }
    }
  ]
}